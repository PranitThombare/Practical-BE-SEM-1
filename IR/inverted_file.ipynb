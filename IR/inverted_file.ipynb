{
 "cells": [
  {
   "cell_type": "code",
   "execution_count": 2,
   "metadata": {},
   "outputs": [],
   "source": [
    "class InvertedIndex:\n",
    "    def __init__(self):\n",
    "        self.index = {}\n",
    "\n",
    "    def add_document(self, doc_id, text):\n",
    "        # Tokenize the text into words\n",
    "        words = text.split()\n",
    "        for word in words:\n",
    "            if word not in self.index:\n",
    "                self.index[word] = []\n",
    "            self.index[word].append(doc_id)\n",
    "\n",
    "    def retrieve(self, query):\n",
    "        # Tokenize the query\n",
    "        query_words = query.split()\n",
    "        results = set()\n",
    "        for word in query_words:\n",
    "            if word in self.index:\n",
    "                results.update(self.index[word])\n",
    "        return results\n"
   ]
  },
  {
   "cell_type": "code",
   "execution_count": 3,
   "metadata": {},
   "outputs": [
    {
     "name": "stdout",
     "output_type": "stream",
     "text": [
      "Retrieved documents: {1, 2, 3}\n"
     ]
    }
   ],
   "source": [
    "# Example usage\n",
    "if __name__ == \"__main__\":\n",
    "    documents = {\n",
    "        1: \"the cat in the hat\",\n",
    "        2: \"the quick brown fox\",\n",
    "        3: \"the lazy dog\",\n",
    "    }\n",
    "\n",
    "    inverted_index = InvertedIndex()\n",
    "\n",
    "    # Add documents to the inverted index\n",
    "    for doc_id, text in documents.items():\n",
    "        inverted_index.add_document(doc_id, text)\n",
    "\n",
    "    # Retrieve documents based on a query\n",
    "    query = \"the cat\"\n",
    "    retrieved_docs = inverted_index.retrieve(query)\n",
    "    print(\"Retrieved documents:\", retrieved_docs)"
   ]
  },
  {
   "cell_type": "code",
   "execution_count": null,
   "metadata": {},
   "outputs": [],
   "source": []
  }
 ],
 "metadata": {
  "kernelspec": {
   "display_name": "Python 3",
   "language": "python",
   "name": "python3"
  },
  "language_info": {
   "codemirror_mode": {
    "name": "ipython",
    "version": 3
   },
   "file_extension": ".py",
   "mimetype": "text/x-python",
   "name": "python",
   "nbconvert_exporter": "python",
   "pygments_lexer": "ipython3",
   "version": "3.9.0"
  }
 },
 "nbformat": 4,
 "nbformat_minor": 2
}
